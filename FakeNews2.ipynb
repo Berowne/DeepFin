{
  "nbformat": 4,
  "nbformat_minor": 0,
  "metadata": {
    "colab": {
      "name": "FakeNews2.ipynb",
      "version": "0.3.2",
      "provenance": [],
      "collapsed_sections": [],
      "include_colab_link": true
    },
    "kernelspec": {
      "display_name": "Python 3",
      "language": "python",
      "name": "python3"
    },
    "accelerator": "GPU"
  },
  "cells": [
    {
      "cell_type": "markdown",
      "metadata": {
        "id": "view-in-github",
        "colab_type": "text"
      },
      "source": [
        "[View in Colaboratory](https://colab.research.google.com/github/Berowne/DeepFin/blob/master/FakeNews2.ipynb)"
      ]
    },
    {
      "metadata": {
        "id": "rChh-5xc4577",
        "colab_type": "text"
      },
      "cell_type": "markdown",
      "source": [
        "# Recurrent Neural Nets - Fake News\n",
        "\n",
        "The RNN (LSTM) architechture that we are using is shown below, a many to one RNN.\n",
        "\n",
        "![RNNs](https://github.com/sachinruk/deepschool.io/blob/master/images/RNN-unrolled.png?raw=true)\n",
        "\n",
        "<img src='https://media.giphy.com/media/l0Iyau7QcKtKUYIda/giphy.gif'>\n",
        "\n",
        "We achieve 87% accuracy in a test set. However, the article in Second reference claims to have 93% accuracy. The main difference is that they seem to use a Bag of Words Model, which loses the order of words when sending into the ML algorithm. Also\n",
        "\n",
        "## References:\n",
        "1. Data: https://github.com/GeorgeMcIntire/fake_real_news_dataset\n",
        "2. Classification using Scikit Learn: https://blog.kjamistan.com/comparing-scikit-learn-text-classifiers-on-a-fake-news-dataset/\n",
        "3. Glove vectors: https://nlp.stanford.edu/projects/glove/\n",
        "\n"
      ]
    },
    {
      "metadata": {
        "id": "iPxehGt24578",
        "colab_type": "code",
        "colab": {
          "base_uri": "https://localhost:8080/",
          "height": 336
        },
        "outputId": "4902fec1-749e-40bf-dd01-017b196cbc0f"
      },
      "cell_type": "code",
      "source": [
        "from IPython.display import HTML\n",
        "HTML('<iframe width=\"560\" height=\"315\" src=\"https://www.youtube.com/embed/fZ2VS-Okju8?rel=0&amp;controls=0&amp;showinfo=0\" frameborder=\"0\" allowfullscreen></iframe>')"
      ],
      "execution_count": 1,
      "outputs": [
        {
          "output_type": "execute_result",
          "data": {
            "text/html": [
              "<iframe width=\"560\" height=\"315\" src=\"https://www.youtube.com/embed/fZ2VS-Okju8?rel=0&amp;controls=0&amp;showinfo=0\" frameborder=\"0\" allowfullscreen></iframe>"
            ],
            "text/plain": [
              "<IPython.core.display.HTML object>"
            ]
          },
          "metadata": {
            "tags": []
          },
          "execution_count": 1
        }
      ]
    },
    {
      "metadata": {
        "id": "Mt2gYghN458B",
        "colab_type": "code",
        "colab": {
          "base_uri": "https://localhost:8080/",
          "height": 50
        },
        "outputId": "f0913a72-715e-41e3-83e2-aecbbc9f4862"
      },
      "cell_type": "code",
      "source": [
        "%matplotlib inline\n",
        "import pandas as pd\n",
        "import numpy as np\n",
        "import matplotlib.pyplot as plt\n",
        "\n",
        "from keras.models import Sequential\n",
        "from keras.layers import Dense\n",
        "\n",
        "import nltk\n",
        "nltk.download('stopwords')\n",
        "from nltk.stem import PorterStemmer\n",
        "from nltk.corpus import stopwords\n",
        "\n",
        "from sklearn.feature_extraction.text import CountVectorizer, TfidfVectorizer\n",
        "from sklearn.model_selection import train_test_split\n",
        "\n",
        "from collections import Counter"
      ],
      "execution_count": 27,
      "outputs": [
        {
          "output_type": "stream",
          "text": [
            "[nltk_data] Downloading package stopwords to /content/nltk_data...\n",
            "[nltk_data]   Package stopwords is already up-to-date!\n"
          ],
          "name": "stdout"
        }
      ]
    },
    {
      "metadata": {
        "id": "xGW29vxZuKqm",
        "colab_type": "code",
        "colab": {
          "base_uri": "https://localhost:8080/",
          "height": 34
        },
        "outputId": "f3e336da-9713-4b61-bf85-5b3777529403"
      },
      "cell_type": "code",
      "source": [
        "stopWords = list(stopwords.words('english'))\n",
        "stopWords[:10]"
      ],
      "execution_count": 17,
      "outputs": [
        {
          "output_type": "execute_result",
          "data": {
            "text/plain": [
              "['i', 'me', 'my', 'myself', 'we', 'our', 'ours', 'ourselves', 'you', \"you're\"]"
            ]
          },
          "metadata": {
            "tags": []
          },
          "execution_count": 17
        }
      ]
    },
    {
      "metadata": {
        "id": "DPT7qV6v6H9v",
        "colab_type": "code",
        "colab": {
          "base_uri": "https://localhost:8080/",
          "height": 722
        },
        "outputId": "cc7c097f-4cc0-488d-a562-cef8fa1c4e2a"
      },
      "cell_type": "code",
      "source": [
        "!wget https://github.com/GeorgeMcIntire/fake_real_news_dataset/raw/master/fake_or_real_news.csv.zip\n",
        "!unzip fake_or_real_news.csv.zip"
      ],
      "execution_count": 9,
      "outputs": [
        {
          "output_type": "stream",
          "text": [
            "--2018-06-24 07:38:55--  https://github.com/GeorgeMcIntire/fake_real_news_dataset/raw/master/fake_or_real_news.csv.zip\r\n",
            "Resolving github.com (github.com)... 192.30.253.112, 192.30.253.113\n",
            "Connecting to github.com (github.com)|192.30.253.112|:443... connected.\n",
            "HTTP request sent, awaiting response... 302 Found\n",
            "Location: https://raw.githubusercontent.com/GeorgeMcIntire/fake_real_news_dataset/master/fake_or_real_news.csv.zip [following]\n",
            "--2018-06-24 07:38:56--  https://raw.githubusercontent.com/GeorgeMcIntire/fake_real_news_dataset/master/fake_or_real_news.csv.zip\n",
            "Resolving raw.githubusercontent.com (raw.githubusercontent.com)... 151.101.0.133, 151.101.64.133, 151.101.128.133, ...\n",
            "Connecting to raw.githubusercontent.com (raw.githubusercontent.com)|151.101.0.133|:443... connected.\n",
            "HTTP request sent, awaiting response... 200 OK\n",
            "Length: 11878108 (11M) [application/zip]\n",
            "Saving to: ‘fake_or_real_news.csv.zip.2’\n",
            "\n",
            "fake_or_real_news.c 100%[===================>]  11.33M  --.-KB/s    in 0.08s   \n",
            "\n",
            "2018-06-24 07:38:56 (151 MB/s) - ‘fake_or_real_news.csv.zip.2’ saved [11878108/11878108]\n",
            "\n",
            "UnZip 6.00 of 20 April 2009, by Debian. Original by Info-ZIP.\n",
            "\n",
            "Usage: unzip [-Z] [-opts[modifiers]] file[.zip] [list] [-x xlist] [-d exdir]\n",
            "  Default action is to extract files in list, except those in xlist, to exdir;\n",
            "  file[.zip] may be a wildcard.  -Z => ZipInfo mode (\"unzip -Z\" for usage).\n",
            "\n",
            "  -p  extract files to pipe, no messages     -l  list files (short format)\n",
            "  -f  freshen existing files, create none    -t  test compressed archive data\n",
            "  -u  update files, create if necessary      -z  display archive comment only\n",
            "  -v  list verbosely/show version info       -T  timestamp archive to latest\n",
            "  -x  exclude files that follow (in xlist)   -d  extract files into exdir\n",
            "modifiers:\n",
            "  -n  never overwrite existing files         -q  quiet mode (-qq => quieter)\n",
            "  -o  overwrite files WITHOUT prompting      -a  auto-convert any text files\n",
            "  -j  junk paths (do not make directories)   -aa treat ALL files as text\n",
            "  -U  use escapes for all non-ASCII Unicode  -UU ignore any Unicode fields\n",
            "  -C  match filenames case-insensitively     -L  make (some) names lowercase\n",
            "  -X  restore UID/GID info                   -V  retain VMS version numbers\n",
            "  -K  keep setuid/setgid/tacky permissions   -M  pipe through \"more\" pager\n",
            "  -O CHARSET  specify a character encoding for DOS, Windows and OS/2 archives\n",
            "  -I CHARSET  specify a character encoding for UNIX and other archives\n",
            "\n",
            "See \"unzip -hh\" or unzip.txt for more help.  Examples:\n",
            "  unzip data1 -x joe   => extract all files except joe from zipfile data1.zip\n",
            "  unzip -p foo | more  => send contents of foo.zip via pipe into program more\n",
            "  unzip -fo foo ReadMe => quietly replace existing ReadMe if archive file newer\n"
          ],
          "name": "stdout"
        }
      ]
    },
    {
      "metadata": {
        "id": "XSsCO8B6458G",
        "colab_type": "text"
      },
      "cell_type": "markdown",
      "source": [
        "Preprocessing steps: lower case, remove urls, some punctuations etc."
      ]
    },
    {
      "metadata": {
        "id": "hfLxM2WEC-il",
        "colab_type": "code",
        "colab": {
          "base_uri": "https://localhost:8080/",
          "height": 195
        },
        "outputId": "9f005865-d722-4609-94da-108f08afc99c"
      },
      "cell_type": "code",
      "source": [
        "df = pd.read_csv('fake_or_real_news.csv')\n",
        "df.head()"
      ],
      "execution_count": 14,
      "outputs": [
        {
          "output_type": "execute_result",
          "data": {
            "text/html": [
              "<div>\n",
              "<style scoped>\n",
              "    .dataframe tbody tr th:only-of-type {\n",
              "        vertical-align: middle;\n",
              "    }\n",
              "\n",
              "    .dataframe tbody tr th {\n",
              "        vertical-align: top;\n",
              "    }\n",
              "\n",
              "    .dataframe thead th {\n",
              "        text-align: right;\n",
              "    }\n",
              "</style>\n",
              "<table border=\"1\" class=\"dataframe\">\n",
              "  <thead>\n",
              "    <tr style=\"text-align: right;\">\n",
              "      <th></th>\n",
              "      <th>Unnamed: 0</th>\n",
              "      <th>title</th>\n",
              "      <th>text</th>\n",
              "      <th>label</th>\n",
              "    </tr>\n",
              "  </thead>\n",
              "  <tbody>\n",
              "    <tr>\n",
              "      <th>0</th>\n",
              "      <td>8476</td>\n",
              "      <td>You Can Smell Hillary’s Fear</td>\n",
              "      <td>Daniel Greenfield, a Shillman Journalism Fello...</td>\n",
              "      <td>FAKE</td>\n",
              "    </tr>\n",
              "    <tr>\n",
              "      <th>1</th>\n",
              "      <td>10294</td>\n",
              "      <td>Watch The Exact Moment Paul Ryan Committed Pol...</td>\n",
              "      <td>Google Pinterest Digg Linkedin Reddit Stumbleu...</td>\n",
              "      <td>FAKE</td>\n",
              "    </tr>\n",
              "    <tr>\n",
              "      <th>2</th>\n",
              "      <td>3608</td>\n",
              "      <td>Kerry to go to Paris in gesture of sympathy</td>\n",
              "      <td>U.S. Secretary of State John F. Kerry said Mon...</td>\n",
              "      <td>REAL</td>\n",
              "    </tr>\n",
              "    <tr>\n",
              "      <th>3</th>\n",
              "      <td>10142</td>\n",
              "      <td>Bernie supporters on Twitter erupt in anger ag...</td>\n",
              "      <td>— Kaydee King (@KaydeeKing) November 9, 2016 T...</td>\n",
              "      <td>FAKE</td>\n",
              "    </tr>\n",
              "    <tr>\n",
              "      <th>4</th>\n",
              "      <td>875</td>\n",
              "      <td>The Battle of New York: Why This Primary Matters</td>\n",
              "      <td>It's primary day in New York and front-runners...</td>\n",
              "      <td>REAL</td>\n",
              "    </tr>\n",
              "  </tbody>\n",
              "</table>\n",
              "</div>"
            ],
            "text/plain": [
              "   Unnamed: 0                                              title  \\\n",
              "0        8476                       You Can Smell Hillary’s Fear   \n",
              "1       10294  Watch The Exact Moment Paul Ryan Committed Pol...   \n",
              "2        3608        Kerry to go to Paris in gesture of sympathy   \n",
              "3       10142  Bernie supporters on Twitter erupt in anger ag...   \n",
              "4         875   The Battle of New York: Why This Primary Matters   \n",
              "\n",
              "                                                text label  \n",
              "0  Daniel Greenfield, a Shillman Journalism Fello...  FAKE  \n",
              "1  Google Pinterest Digg Linkedin Reddit Stumbleu...  FAKE  \n",
              "2  U.S. Secretary of State John F. Kerry said Mon...  REAL  \n",
              "3  — Kaydee King (@KaydeeKing) November 9, 2016 T...  FAKE  \n",
              "4  It's primary day in New York and front-runners...  REAL  "
            ]
          },
          "metadata": {
            "tags": []
          },
          "execution_count": 14
        }
      ]
    },
    {
      "metadata": {
        "id": "aOqLg1BB458J",
        "colab_type": "code",
        "colab": {
          "base_uri": "https://localhost:8080/",
          "height": 212
        },
        "outputId": "2af66499-9c33-42e2-fd88-235f22d83fb3"
      },
      "cell_type": "code",
      "source": [
        "df.drop(['Unnamed: 0', 'title'], axis=1, inplace=True)\n",
        "\n",
        "df.text = df.text.str.lower()\n",
        "df.text = df.text.str.replace(r'http[\\w:/\\.]+','<URL>') # remove urls\n",
        "df.text = df.text.str.replace(r'[^\\.\\w\\s]','') #remove everything but characters and punctuation\n",
        "df.text = df.text.str.replace(r'\\.\\.+','.') #replace multple periods with a single one\n",
        "df.text = df.text.str.replace(r'\\.',' . ') #replace multple periods with a single one\n",
        "df.text = df.text.str.replace(r'\\s\\s+',' ') #replace multple white space with a single one\n",
        "df.text = df.text.str.strip() \n",
        "print(df.shape)\n",
        "df.head()"
      ],
      "execution_count": 15,
      "outputs": [
        {
          "output_type": "stream",
          "text": [
            "(6335, 2)\n"
          ],
          "name": "stdout"
        },
        {
          "output_type": "execute_result",
          "data": {
            "text/html": [
              "<div>\n",
              "<style scoped>\n",
              "    .dataframe tbody tr th:only-of-type {\n",
              "        vertical-align: middle;\n",
              "    }\n",
              "\n",
              "    .dataframe tbody tr th {\n",
              "        vertical-align: top;\n",
              "    }\n",
              "\n",
              "    .dataframe thead th {\n",
              "        text-align: right;\n",
              "    }\n",
              "</style>\n",
              "<table border=\"1\" class=\"dataframe\">\n",
              "  <thead>\n",
              "    <tr style=\"text-align: right;\">\n",
              "      <th></th>\n",
              "      <th>text</th>\n",
              "      <th>label</th>\n",
              "    </tr>\n",
              "  </thead>\n",
              "  <tbody>\n",
              "    <tr>\n",
              "      <th>0</th>\n",
              "      <td>daniel greenfield a shillman journalism fellow...</td>\n",
              "      <td>FAKE</td>\n",
              "    </tr>\n",
              "    <tr>\n",
              "      <th>1</th>\n",
              "      <td>google pinterest digg linkedin reddit stumbleu...</td>\n",
              "      <td>FAKE</td>\n",
              "    </tr>\n",
              "    <tr>\n",
              "      <th>2</th>\n",
              "      <td>u . s . secretary of state john f . kerry said...</td>\n",
              "      <td>REAL</td>\n",
              "    </tr>\n",
              "    <tr>\n",
              "      <th>3</th>\n",
              "      <td>kaydee king kaydeeking november 9 2016 the les...</td>\n",
              "      <td>FAKE</td>\n",
              "    </tr>\n",
              "    <tr>\n",
              "      <th>4</th>\n",
              "      <td>its primary day in new york and frontrunners h...</td>\n",
              "      <td>REAL</td>\n",
              "    </tr>\n",
              "  </tbody>\n",
              "</table>\n",
              "</div>"
            ],
            "text/plain": [
              "                                                text label\n",
              "0  daniel greenfield a shillman journalism fellow...  FAKE\n",
              "1  google pinterest digg linkedin reddit stumbleu...  FAKE\n",
              "2  u . s . secretary of state john f . kerry said...  REAL\n",
              "3  kaydee king kaydeeking november 9 2016 the les...  FAKE\n",
              "4  its primary day in new york and frontrunners h...  REAL"
            ]
          },
          "metadata": {
            "tags": []
          },
          "execution_count": 15
        }
      ]
    },
    {
      "metadata": {
        "id": "aI43MATjvxGW",
        "colab_type": "code",
        "colab": {
          "base_uri": "https://localhost:8080/",
          "height": 118
        },
        "outputId": "75c6c6c6-8862-4303-fed6-28e218dfe9b9"
      },
      "cell_type": "code",
      "source": [
        "ps = PorterStemmer()\n",
        "df.head().text.apply(lambda x: ' '.join([ps.stem(word) for word in x.split()]))"
      ],
      "execution_count": 24,
      "outputs": [
        {
          "output_type": "execute_result",
          "data": {
            "text/plain": [
              "0    daniel greenfield a shillman journal fellow at...\n",
              "1    googl pinterest digg linkedin reddit stumbleup...\n",
              "2    u . s . secretari of state john f . kerri said...\n",
              "3    kayde king kaydeek novemb 9 2016 the lesson fr...\n",
              "4    it primari day in new york and frontrunn hilla...\n",
              "Name: text, dtype: object"
            ]
          },
          "metadata": {
            "tags": []
          },
          "execution_count": 24
        }
      ]
    },
    {
      "metadata": {
        "id": "MzKR4Z0UwoEy",
        "colab_type": "code",
        "colab": {
          "base_uri": "https://localhost:8080/",
          "height": 37
        },
        "outputId": "75bf5a3a-e970-4e39-9f44-fc74aa7cdbc2"
      },
      "cell_type": "code",
      "source": [
        "df.text = df.text.apply(lambda x: ' '.join([ps.stem(word) for word in x.split()]))"
      ],
      "execution_count": 25,
      "outputs": []
    },
    {
      "metadata": {
        "id": "NqSwZroCzlie",
        "colab_type": "code",
        "colab": {
          "base_uri": "https://localhost:8080/",
          "height": 37
        },
        "outputId": "b8a4b5a7-f42b-4310-cad4-ae4f10109bcf"
      },
      "cell_type": "code",
      "source": [
        "tf_vectorizer = CountVectorizer(max_df=0.95, min_df=20,\n",
        "                                stop_words='english')\n",
        "tf = tf_vectorizer.fit_transform(df.text.values)\n",
        "y = (df.label.values=='REAL').astype('int')"
      ],
      "execution_count": 32,
      "outputs": []
    },
    {
      "metadata": {
        "id": "zJYs2CFi1MNU",
        "colab_type": "code",
        "colab": {
          "base_uri": "https://localhost:8080/",
          "height": 34
        },
        "outputId": "44f500cd-d2de-4527-de82-3ea8d39ac88b"
      },
      "cell_type": "code",
      "source": [
        "type(tf)"
      ],
      "execution_count": 30,
      "outputs": [
        {
          "output_type": "execute_result",
          "data": {
            "text/plain": [
              "scipy.sparse.csr.csr_matrix"
            ]
          },
          "metadata": {
            "tags": []
          },
          "execution_count": 30
        }
      ]
    },
    {
      "metadata": {
        "id": "kSumKERC1Pik",
        "colab_type": "code",
        "colab": {
          "base_uri": "https://localhost:8080/",
          "height": 34
        },
        "outputId": "0c3235ec-b920-4e0a-91c1-b74e3c354bd1"
      },
      "cell_type": "code",
      "source": [
        "tf.shape"
      ],
      "execution_count": 33,
      "outputs": [
        {
          "output_type": "execute_result",
          "data": {
            "text/plain": [
              "(6335, 7467)"
            ]
          },
          "metadata": {
            "tags": []
          },
          "execution_count": 33
        }
      ]
    },
    {
      "metadata": {
        "id": "rgcbnAI19cuI",
        "colab_type": "code",
        "colab": {
          "base_uri": "https://localhost:8080/",
          "height": 17
        },
        "outputId": "486bfe25-88e3-4114-d87a-ee21dc971af1"
      },
      "cell_type": "code",
      "source": [
        "X_train, X_test, y_train, y_test = train_test_split(tf, y, test_size=0.1, random_state=42)"
      ],
      "execution_count": 35,
      "outputs": []
    },
    {
      "metadata": {
        "id": "-JwUjtBl458g",
        "colab_type": "text"
      },
      "cell_type": "markdown",
      "source": [
        "## Many to One LSTM"
      ]
    },
    {
      "metadata": {
        "id": "67_-SMl1458g",
        "colab_type": "text"
      },
      "cell_type": "markdown",
      "source": [
        "### Basic Method:\n",
        "This method is no different to the method utilised in the sentiment analysis lesson."
      ]
    },
    {
      "metadata": {
        "id": "wfF_ZGF4458h",
        "colab_type": "code",
        "colab": {
          "base_uri": "https://localhost:8080/",
          "height": 168
        },
        "outputId": "220408e4-580f-4230-c97a-8451d5608843"
      },
      "cell_type": "code",
      "source": [
        "model = Sequential()\n",
        "model.add(Dense(units=1, activation='sigmoid', input_dim=tf.shape[1]))\n",
        "model.compile(loss='binary_crossentropy', optimizer='adagrad', metrics=[\"binary_accuracy\"])\n",
        "model.summary()"
      ],
      "execution_count": 36,
      "outputs": [
        {
          "output_type": "stream",
          "text": [
            "_________________________________________________________________\n",
            "Layer (type)                 Output Shape              Param #   \n",
            "=================================================================\n",
            "dense_1 (Dense)              (None, 1)                 7468      \n",
            "=================================================================\n",
            "Total params: 7,468\n",
            "Trainable params: 7,468\n",
            "Non-trainable params: 0\n",
            "_________________________________________________________________\n"
          ],
          "name": "stdout"
        }
      ]
    },
    {
      "metadata": {
        "id": "SGkp2gGa458k",
        "colab_type": "code",
        "colab": {
          "base_uri": "https://localhost:8080/",
          "height": 238
        },
        "outputId": "4a054ed6-f8bf-499e-e078-6d34c5458d4a"
      },
      "cell_type": "code",
      "source": [
        "batch_size = 128\n",
        "epochs = 5\n",
        "model.fit(X_train, y_train, batch_size=batch_size, epochs=epochs, validation_data=(X_test, y_test))"
      ],
      "execution_count": 37,
      "outputs": [
        {
          "output_type": "stream",
          "text": [
            "Train on 5701 samples, validate on 634 samples\n",
            "Epoch 1/5\n",
            "5701/5701 [==============================] - 1s 184us/step - loss: 0.3942 - binary_accuracy: 0.8558 - val_loss: 0.3241 - val_binary_accuracy: 0.9101\n",
            "Epoch 2/5\n",
            "5701/5701 [==============================] - 0s 57us/step - loss: 0.2539 - binary_accuracy: 0.9405 - val_loss: 0.2952 - val_binary_accuracy: 0.9132\n",
            "Epoch 3/5\n",
            "5701/5701 [==============================] - 0s 59us/step - loss: 0.2181 - binary_accuracy: 0.9532 - val_loss: 0.2799 - val_binary_accuracy: 0.9148\n",
            "Epoch 4/5\n",
            "5701/5701 [==============================] - 0s 64us/step - loss: 0.1967 - binary_accuracy: 0.9604 - val_loss: 0.2700 - val_binary_accuracy: 0.9211\n",
            "Epoch 5/5\n",
            "5701/5701 [==============================] - 0s 66us/step - loss: 0.1816 - binary_accuracy: 0.9651 - val_loss: 0.2624 - val_binary_accuracy: 0.9196\n"
          ],
          "name": "stdout"
        },
        {
          "output_type": "execute_result",
          "data": {
            "text/plain": [
              "<keras.callbacks.History at 0x7f3f55d9fbe0>"
            ]
          },
          "metadata": {
            "tags": []
          },
          "execution_count": 37
        }
      ]
    },
    {
      "metadata": {
        "id": "iyiAM-lj3YXX",
        "colab_type": "code",
        "colab": {
          "base_uri": "https://localhost:8080/",
          "height": 37
        },
        "outputId": "2755eb0b-7552-48e2-9cff-cc1e05730d64"
      },
      "cell_type": "code",
      "source": [
        "def transform(string):\n",
        "  string = string.lower()\n",
        "  string = ' '.join([ps.stem(word) for word in string.split()])\n",
        "  return string"
      ],
      "execution_count": 39,
      "outputs": []
    },
    {
      "metadata": {
        "id": "rXyBApMB458t",
        "colab_type": "code",
        "colab": {
          "base_uri": "https://localhost:8080/",
          "height": 34
        },
        "outputId": "125a449f-fcfa-4854-c6f7-e09b881aa857"
      },
      "cell_type": "code",
      "source": [
        "sentence = \"North korea is testing out missiles on americans living overseas .\"\n",
        "sentence = transform(sentence)\n",
        "x = tf_vectorizer.transform([sentence])\n",
        "model.predict(x)"
      ],
      "execution_count": 41,
      "outputs": [
        {
          "output_type": "execute_result",
          "data": {
            "text/plain": [
              "array([[0.45314562]], dtype=float32)"
            ]
          },
          "metadata": {
            "tags": []
          },
          "execution_count": 41
        }
      ]
    },
    {
      "metadata": {
        "id": "1DQiqseX4mSE",
        "colab_type": "code",
        "colab": {
          "base_uri": "https://localhost:8080/",
          "height": 34
        },
        "outputId": "0f9b3825-bbeb-4226-f963-f5ccd528af2c"
      },
      "cell_type": "code",
      "source": [
        "sentence"
      ],
      "execution_count": 42,
      "outputs": [
        {
          "output_type": "execute_result",
          "data": {
            "text/plain": [
              "'north korea is test out missil on american live oversea .'"
            ]
          },
          "metadata": {
            "tags": []
          },
          "execution_count": 42
        }
      ]
    },
    {
      "metadata": {
        "id": "WziK-vku4piV",
        "colab_type": "code",
        "colab": {
          "base_uri": "https://localhost:8080/",
          "height": 34
        },
        "outputId": "4db91c87-5e97-4f37-b1e2-4af037773940"
      },
      "cell_type": "code",
      "source": [
        "x.shape"
      ],
      "execution_count": 43,
      "outputs": [
        {
          "output_type": "execute_result",
          "data": {
            "text/plain": [
              "(1, 7467)"
            ]
          },
          "metadata": {
            "tags": []
          },
          "execution_count": 43
        }
      ]
    },
    {
      "metadata": {
        "id": "Rwh5OTU2458y",
        "colab_type": "code",
        "colab": {
          "base_uri": "https://localhost:8080/",
          "height": 34
        },
        "outputId": "9f267729-6afc-4e47-9f6d-d6282525c630"
      },
      "cell_type": "code",
      "source": [
        "sentence = \"The chemicals in the water is turning the freaking frogs gay says cnn . \"\n",
        "sentence = transform(sentence)\n",
        "x = tf_vectorizer.transform([sentence])\n",
        "model.predict(x)"
      ],
      "execution_count": 44,
      "outputs": [
        {
          "output_type": "execute_result",
          "data": {
            "text/plain": [
              "array([[0.505954]], dtype=float32)"
            ]
          },
          "metadata": {
            "tags": []
          },
          "execution_count": 44
        }
      ]
    },
    {
      "metadata": {
        "id": "1BfYMF-H4581",
        "colab_type": "code",
        "colab": {
          "base_uri": "https://localhost:8080/",
          "height": 34
        },
        "outputId": "fc345084-de0f-44fe-8acf-98871dc6fc4a"
      },
      "cell_type": "code",
      "source": [
        "sentence = \"President Trump is the greatest president of all time period .\"\n",
        "sentence = transform(sentence)\n",
        "x = tf_vectorizer.transform([sentence])\n",
        "model.predict(x)"
      ],
      "execution_count": 45,
      "outputs": [
        {
          "output_type": "execute_result",
          "data": {
            "text/plain": [
              "array([[0.4818339]], dtype=float32)"
            ]
          },
          "metadata": {
            "tags": []
          },
          "execution_count": 45
        }
      ]
    },
    {
      "metadata": {
        "id": "bxbyR3Gc4583",
        "colab_type": "code",
        "colab": {
          "base_uri": "https://localhost:8080/",
          "height": 50
        },
        "outputId": "b6bf2dca-d5ed-47b9-9673-3470b035c4a9"
      },
      "cell_type": "code",
      "source": [
        "model.evaluate(X_test, y_test)"
      ],
      "execution_count": 46,
      "outputs": [
        {
          "output_type": "stream",
          "text": [
            "634/634 [==============================] - 0s 114us/step\n"
          ],
          "name": "stdout"
        },
        {
          "output_type": "execute_result",
          "data": {
            "text/plain": [
              "[0.262371898919626, 0.9195583584932875]"
            ]
          },
          "metadata": {
            "tags": []
          },
          "execution_count": 46
        }
      ]
    },
    {
      "metadata": {
        "id": "Nqs3Gdgd5tU_",
        "colab_type": "code",
        "colab": {
          "base_uri": "https://localhost:8080/",
          "height": 265
        },
        "outputId": "87c2fc52-baad-40e3-b64f-4acb9c0e243e"
      },
      "cell_type": "code",
      "source": [
        "weights = model.get_weights()[0]\n",
        "plt.hist(weights, 50)\n",
        "plt.show()"
      ],
      "execution_count": 52,
      "outputs": [
        {
          "output_type": "display_data",
          "data": {
            "image/png": "[encoded data removed]",
            "text/plain": [
              "<matplotlib.figure.Figure at 0x7f3f55ea6390>"
            ]
          },
          "metadata": {
            "tags": []
          }
        }
      ]
    },
    {
      "metadata": {
        "id": "0YPvfc405wlN",
        "colab_type": "code",
        "colab": {
          "base_uri": "https://localhost:8080/",
          "height": 37
        },
        "outputId": "fa8f590c-9e23-4f8f-fad7-b98c5fba41d7"
      },
      "cell_type": "code",
      "source": [
        "words = np.array(tf_vectorizer.get_feature_names())[:, None]\n",
        "pos_words = words[weights>0.1]\n",
        "neg_words = words[weights<-0.1]"
      ],
      "execution_count": 59,
      "outputs": []
    },
    {
      "metadata": {
        "id": "GJRArUsi6MC7",
        "colab_type": "code",
        "colab": {
          "base_uri": "https://localhost:8080/",
          "height": 185
        },
        "outputId": "c20bbfe4-f98b-4661-e103-6271c6af7fbd"
      },
      "cell_type": "code",
      "source": [
        "pos_words"
      ],
      "execution_count": 60,
      "outputs": [
        {
          "output_type": "execute_result",
          "data": {
            "text/plain": [
              "array(['131', '232', '79', 'analyst', 'backer', 'baltimor', 'bernardino',\n",
              "       'bin', 'boehner', 'broader', 'carson', 'commonsens', 'conserv',\n",
              "       'contrast', 'convent', 'coverag', 'cruz', 'demo', 'dismantl',\n",
              "       'downplay', 'factcheck', 'firstterm', 'freddi', 'friday',\n",
              "       'frontrunn', 'grappl', 'huckabe', 'infight', 'islamist',\n",
              "       'kentucki', 'kurtz', 'monday', 'nomin', 'partisan', 'presumpt',\n",
              "       'ramp', 'reform', 'rhode', 'rtexa', 'runup', 'saturday', 'sen',\n",
              "       'sheer', 'tech', 'ted', 'tehran', 'thursday', 'todo', 'tougher',\n",
              "       'trail', 'trustworthi', 'tuesday', 'upstat', 'walker', 'wari',\n",
              "       'wartim'], dtype='<U17')"
            ]
          },
          "metadata": {
            "tags": []
          },
          "execution_count": 60
        }
      ]
    },
    {
      "metadata": {
        "id": "WuayoZJl6eZF",
        "colab_type": "code",
        "colab": {
          "base_uri": "https://localhost:8080/",
          "height": 202
        },
        "outputId": "b315961c-227f-4820-eb4a-e44a9bc901de"
      },
      "cell_type": "code",
      "source": [
        "neg_words"
      ],
      "execution_count": 61,
      "outputs": [
        {
          "output_type": "execute_result",
          "data": {
            "text/plain": [
              "array(['2016', '27', '28', 'absolut', 'academia', 'advertis', 'articl',\n",
              "       'caller', 'cc', 'cent', 'civilian', 'com', 'commod', 'copyright',\n",
              "       'courtesi', 'daili', 'defenc', 'dmca', 'dog', 'euro', 'flickr',\n",
              "       'genet', 'girl', 'globalist', 'grab', 'implant', 'impun', 'julian',\n",
              "       'leftright', 'login', 'mainstream', 'min', 'msm', 'naturalnew',\n",
              "       'navig', 'notifi', 'novemb', 'oct', 'octob', 'onion', 'org', 'pic',\n",
              "       'pinterest', 'pipelin', 'pleas', 'pm', 'podesta', 'pravda',\n",
              "       'prostitut', 'psychopath', 'publish', 'recycl', 'repost', 'rock',\n",
              "       'rt', 'ru', 'sf', 'share', 'sheepl', 'sociabl', 'sourc', 'sputnik',\n",
              "       'steal', 'subscrib', 'tag', 'templ', 'terri', 'theresa', 'trunew',\n",
              "       'uk', 'url', 'warmong', 'wikileak', 'youtub'], dtype='<U17')"
            ]
          },
          "metadata": {
            "tags": []
          },
          "execution_count": 61
        }
      ]
    },
    {
      "metadata": {
        "id": "UNfmzMvo6gX_",
        "colab_type": "code",
        "colab": {
          "base_uri": "https://localhost:8080/",
          "height": 34
        },
        "outputId": "b99a5a9b-c0c1-4ea5-867d-3a5c107ee31e"
      },
      "cell_type": "code",
      "source": [
        "1"
      ],
      "execution_count": 62,
      "outputs": [
        {
          "output_type": "execute_result",
          "data": {
            "text/plain": [
              "1"
            ]
          },
          "metadata": {
            "tags": []
          },
          "execution_count": 62
        }
      ]
    },
    {
      "metadata": {
        "id": "kjfeRvBP_xvc",
        "colab_type": "code",
        "colab": {}
      },
      "cell_type": "code",
      "source": [
        ""
      ],
      "execution_count": 0,
      "outputs": []
    }
  ]
}