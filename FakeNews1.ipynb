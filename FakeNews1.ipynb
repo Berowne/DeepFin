{
  "nbformat": 4,
  "nbformat_minor": 0,
  "metadata": {
    "colab": {
      "name": "FakeNews1.ipynb",
      "version": "0.3.2",
      "provenance": [],
      "collapsed_sections": [],
      "include_colab_link": true
    },
    "kernelspec": {
      "display_name": "Python 3",
      "language": "python",
      "name": "python3"
    },
    "accelerator": "GPU"
  },
  "cells": [
    {
      "cell_type": "markdown",
      "metadata": {
        "id": "view-in-github",
        "colab_type": "text"
      },
      "source": [
        "[View in Colaboratory](https://colab.research.google.com/github/Berowne/DeepFin/blob/master/FakeNews1.ipynb)"
      ]
    },
    {
      "metadata": {
        "id": "rChh-5xc4577",
        "colab_type": "text"
      },
      "cell_type": "markdown",
      "source": [
        "# Recurrent Neural Nets - Fake News\n",
        "\n",
        "The RNN (LSTM) architechture that we are using is shown below, a many to one RNN.\n",
        "\n",
        "![RNNs](https://github.com/sachinruk/deepschool.io/blob/master/images/RNN-unrolled.png?raw=true)\n",
        "\n",
        "<img src='https://media.giphy.com/media/l0Iyau7QcKtKUYIda/giphy.gif'>\n",
        "\n",
        "We achieve 87% accuracy in a test set. However, the article in Second reference claims to have 93% accuracy. The main difference is that they seem to use a Bag of Words Model, which loses the order of words when sending into the ML algorithm. Also\n",
        "\n",
        "## References:\n",
        "1. Data: https://github.com/GeorgeMcIntire/fake_real_news_dataset\n",
        "2. Classification using Scikit Learn: https://blog.kjamistan.com/comparing-scikit-learn-text-classifiers-on-a-fake-news-dataset/\n",
        "3. Glove vectors: https://nlp.stanford.edu/projects/glove/\n",
        "\n"
      ]
    },
    {
      "metadata": {
        "id": "iPxehGt24578",
        "colab_type": "code",
        "colab": {
          "base_uri": "https://localhost:8080/",
          "height": 336
        },
        "outputId": "4902fec1-749e-40bf-dd01-017b196cbc0f"
      },
      "cell_type": "code",
      "source": [
        "from IPython.display import HTML\n",
        "HTML('<iframe width=\"560\" height=\"315\" src=\"https://www.youtube.com/embed/fZ2VS-Okju8?rel=0&amp;controls=0&amp;showinfo=0\" frameborder=\"0\" allowfullscreen></iframe>')"
      ],
      "execution_count": 1,
      "outputs": [
        {
          "output_type": "execute_result",
          "data": {
            "text/html": [
              "<iframe width=\"560\" height=\"315\" src=\"https://www.youtube.com/embed/fZ2VS-Okju8?rel=0&amp;controls=0&amp;showinfo=0\" frameborder=\"0\" allowfullscreen></iframe>"
            ],
            "text/plain": [
              "<IPython.core.display.HTML object>"
            ]
          },
          "metadata": {
            "tags": []
          },
          "execution_count": 1
        }
      ]
    },
    {
      "metadata": {
        "id": "Se57X0Y-BiEW",
        "colab_type": "code",
        "colab": {
          "base_uri": "https://localhost:8080/",
          "height": 34
        },
        "outputId": "f44fc6ed-dc08-4afc-c75d-85b691020ca6"
      },
      "cell_type": "code",
      "source": [
        "1+1"
      ],
      "execution_count": 26,
      "outputs": [
        {
          "output_type": "execute_result",
          "data": {
            "text/plain": [
              "2"
            ]
          },
          "metadata": {
            "tags": []
          },
          "execution_count": 26
        }
      ]
    },
    {
      "metadata": {
        "id": "Mt2gYghN458B",
        "colab_type": "code",
        "colab": {
          "base_uri": "https://localhost:8080/",
          "height": 67
        },
        "outputId": "c5394cdc-e0ee-4844-8e05-1498817357cf"
      },
      "cell_type": "code",
      "source": [
        "%matplotlib inline\n",
        "import pandas as pd\n",
        "import numpy as np\n",
        "import matplotlib.pyplot as plt\n",
        "\n",
        "from keras.models import Sequential\n",
        "from keras.layers import Dense\n",
        "\n",
        "import nltk\n",
        "nltk.download('stopwords')\n",
        "from nltk.stem import PorterStemmer\n",
        "from nltk.corpus import stopwords\n",
        "\n",
        "from sklearn.feature_extraction.text import CountVectorizer, TfidfVectorizer\n",
        "from sklearn.model_selection import train_test_split\n",
        "\n",
        "from collections import Counter"
      ],
      "execution_count": 1,
      "outputs": [
        {
          "output_type": "stream",
          "text": [
            "Using TensorFlow backend.\n"
          ],
          "name": "stderr"
        },
        {
          "output_type": "stream",
          "text": [
            "[nltk_data] Downloading package stopwords to /content/nltk_data...\n",
            "[nltk_data]   Unzipping corpora/stopwords.zip.\n"
          ],
          "name": "stdout"
        }
      ]
    },
    {
      "metadata": {
        "id": "xGW29vxZuKqm",
        "colab_type": "code",
        "colab": {
          "base_uri": "https://localhost:8080/",
          "height": 34
        },
        "outputId": "d8d0af34-89b5-43d0-c7a3-57ddae010963"
      },
      "cell_type": "code",
      "source": [
        "stopWords = list(stopwords.words('english'))\n",
        "stopWords[:10]"
      ],
      "execution_count": 2,
      "outputs": [
        {
          "output_type": "execute_result",
          "data": {
            "text/plain": [
              "['i', 'me', 'my', 'myself', 'we', 'our', 'ours', 'ourselves', 'you', \"you're\"]"
            ]
          },
          "metadata": {
            "tags": []
          },
          "execution_count": 2
        }
      ]
    },
    {
      "metadata": {
        "id": "DPT7qV6v6H9v",
        "colab_type": "code",
        "colab": {
          "base_uri": "https://localhost:8080/",
          "height": 353
        },
        "outputId": "fdce9dea-ead2-4ec6-b55d-4eb234c16161"
      },
      "cell_type": "code",
      "source": [
        "!wget https://github.com/GeorgeMcIntire/fake_real_news_dataset/raw/master/fake_or_real_news.csv.zip\n",
        "!unzip fake_or_real_news.csv.zip"
      ],
      "execution_count": 3,
      "outputs": [
        {
          "output_type": "stream",
          "text": [
            "--2018-06-25 07:37:28--  https://github.com/GeorgeMcIntire/fake_real_news_dataset/raw/master/fake_or_real_news.csv.zip\n",
            "Resolving github.com (github.com)... 192.30.255.113, 192.30.255.112\n",
            "Connecting to github.com (github.com)|192.30.255.113|:443... connected.\n",
            "HTTP request sent, awaiting response... 302 Found\n",
            "Location: https://raw.githubusercontent.com/GeorgeMcIntire/fake_real_news_dataset/master/fake_or_real_news.csv.zip [following]\n",
            "--2018-06-25 07:37:28--  https://raw.githubusercontent.com/GeorgeMcIntire/fake_real_news_dataset/master/fake_or_real_news.csv.zip\n",
            "Resolving raw.githubusercontent.com (raw.githubusercontent.com)... 151.101.0.133, 151.101.64.133, 151.101.128.133, ...\n",
            "Connecting to raw.githubusercontent.com (raw.githubusercontent.com)|151.101.0.133|:443... connected.\n",
            "HTTP request sent, awaiting response... 200 OK\n",
            "Length: 11878108 (11M) [application/zip]\n",
            "Saving to: ‘fake_or_real_news.csv.zip’\n",
            "\n",
            "fake_or_real_news.c 100%[===================>]  11.33M  37.4MB/s    in 0.3s    \n",
            "\n",
            "2018-06-25 07:37:28 (37.4 MB/s) - ‘fake_or_real_news.csv.zip’ saved [11878108/11878108]\n",
            "\n",
            "Archive:  fake_or_real_news.csv.zip\n",
            "  inflating: fake_or_real_news.csv   \n",
            "   creating: __MACOSX/\n",
            "  inflating: __MACOSX/._fake_or_real_news.csv  \n"
          ],
          "name": "stdout"
        }
      ]
    },
    {
      "metadata": {
        "id": "XSsCO8B6458G",
        "colab_type": "text"
      },
      "cell_type": "markdown",
      "source": [
        "Preprocessing steps: lower case, remove urls, some punctuations etc."
      ]
    },
    {
      "metadata": {
        "id": "hfLxM2WEC-il",
        "colab_type": "code",
        "colab": {
          "base_uri": "https://localhost:8080/",
          "height": 195
        },
        "outputId": "5b7a1343-131a-4721-baa7-c1b8873c9ecc"
      },
      "cell_type": "code",
      "source": [
        "df = pd.read_csv('fake_or_real_news.csv')\n",
        "df.head()"
      ],
      "execution_count": 4,
      "outputs": [
        {
          "output_type": "execute_result",
          "data": {
            "text/html": [
              "<div>\n",
              "<style scoped>\n",
              "    .dataframe tbody tr th:only-of-type {\n",
              "        vertical-align: middle;\n",
              "    }\n",
              "\n",
              "    .dataframe tbody tr th {\n",
              "        vertical-align: top;\n",
              "    }\n",
              "\n",
              "    .dataframe thead th {\n",
              "        text-align: right;\n",
              "    }\n",
              "</style>\n",
              "<table border=\"1\" class=\"dataframe\">\n",
              "  <thead>\n",
              "    <tr style=\"text-align: right;\">\n",
              "      <th></th>\n",
              "      <th>Unnamed: 0</th>\n",
              "      <th>title</th>\n",
              "      <th>text</th>\n",
              "      <th>label</th>\n",
              "    </tr>\n",
              "  </thead>\n",
              "  <tbody>\n",
              "    <tr>\n",
              "      <th>0</th>\n",
              "      <td>8476</td>\n",
              "      <td>You Can Smell Hillary’s Fear</td>\n",
              "      <td>Daniel Greenfield, a Shillman Journalism Fello...</td>\n",
              "      <td>FAKE</td>\n",
              "    </tr>\n",
              "    <tr>\n",
              "      <th>1</th>\n",
              "      <td>10294</td>\n",
              "      <td>Watch The Exact Moment Paul Ryan Committed Pol...</td>\n",
              "      <td>Google Pinterest Digg Linkedin Reddit Stumbleu...</td>\n",
              "      <td>FAKE</td>\n",
              "    </tr>\n",
              "    <tr>\n",
              "      <th>2</th>\n",
              "      <td>3608</td>\n",
              "      <td>Kerry to go to Paris in gesture of sympathy</td>\n",
              "      <td>U.S. Secretary of State John F. Kerry said Mon...</td>\n",
              "      <td>REAL</td>\n",
              "    </tr>\n",
              "    <tr>\n",
              "      <th>3</th>\n",
              "      <td>10142</td>\n",
              "      <td>Bernie supporters on Twitter erupt in anger ag...</td>\n",
              "      <td>— Kaydee King (@KaydeeKing) November 9, 2016 T...</td>\n",
              "      <td>FAKE</td>\n",
              "    </tr>\n",
              "    <tr>\n",
              "      <th>4</th>\n",
              "      <td>875</td>\n",
              "      <td>The Battle of New York: Why This Primary Matters</td>\n",
              "      <td>It's primary day in New York and front-runners...</td>\n",
              "      <td>REAL</td>\n",
              "    </tr>\n",
              "  </tbody>\n",
              "</table>\n",
              "</div>"
            ],
            "text/plain": [
              "   Unnamed: 0                                              title  \\\n",
              "0        8476                       You Can Smell Hillary’s Fear   \n",
              "1       10294  Watch The Exact Moment Paul Ryan Committed Pol...   \n",
              "2        3608        Kerry to go to Paris in gesture of sympathy   \n",
              "3       10142  Bernie supporters on Twitter erupt in anger ag...   \n",
              "4         875   The Battle of New York: Why This Primary Matters   \n",
              "\n",
              "                                                text label  \n",
              "0  Daniel Greenfield, a Shillman Journalism Fello...  FAKE  \n",
              "1  Google Pinterest Digg Linkedin Reddit Stumbleu...  FAKE  \n",
              "2  U.S. Secretary of State John F. Kerry said Mon...  REAL  \n",
              "3  — Kaydee King (@KaydeeKing) November 9, 2016 T...  FAKE  \n",
              "4  It's primary day in New York and front-runners...  REAL  "
            ]
          },
          "metadata": {
            "tags": []
          },
          "execution_count": 4
        }
      ]
    },
    {
      "metadata": {
        "id": "aOqLg1BB458J",
        "colab_type": "code",
        "colab": {
          "base_uri": "https://localhost:8080/",
          "height": 212
        },
        "outputId": "ae981dad-1927-461b-c1a1-c9df4ced1f93"
      },
      "cell_type": "code",
      "source": [
        "df.drop(['Unnamed: 0', 'title'], axis=1, inplace=True)\n",
        "\n",
        "df.text = df.text.str.lower()\n",
        "df.text = df.text.str.replace(r'http[\\w:/\\.]+','<URL>') # remove urls\n",
        "df.text = df.text.str.replace(r'[^\\.\\w\\s]','') #remove everything but characters and punctuation\n",
        "df.text = df.text.str.replace(r'\\.\\.+','.') #replace multple periods with a single one\n",
        "df.text = df.text.str.replace(r'\\.',' . ') #replace multple periods with a single one\n",
        "df.text = df.text.str.replace(r'\\s\\s+',' ') #replace multple white space with a single one\n",
        "df.text = df.text.str.strip() \n",
        "print(df.shape)\n",
        "df.head()"
      ],
      "execution_count": 5,
      "outputs": [
        {
          "output_type": "stream",
          "text": [
            "(6335, 2)\n"
          ],
          "name": "stdout"
        },
        {
          "output_type": "execute_result",
          "data": {
            "text/html": [
              "<div>\n",
              "<style scoped>\n",
              "    .dataframe tbody tr th:only-of-type {\n",
              "        vertical-align: middle;\n",
              "    }\n",
              "\n",
              "    .dataframe tbody tr th {\n",
              "        vertical-align: top;\n",
              "    }\n",
              "\n",
              "    .dataframe thead th {\n",
              "        text-align: right;\n",
              "    }\n",
              "</style>\n",
              "<table border=\"1\" class=\"dataframe\">\n",
              "  <thead>\n",
              "    <tr style=\"text-align: right;\">\n",
              "      <th></th>\n",
              "      <th>text</th>\n",
              "      <th>label</th>\n",
              "    </tr>\n",
              "  </thead>\n",
              "  <tbody>\n",
              "    <tr>\n",
              "      <th>0</th>\n",
              "      <td>daniel greenfield a shillman journalism fellow...</td>\n",
              "      <td>FAKE</td>\n",
              "    </tr>\n",
              "    <tr>\n",
              "      <th>1</th>\n",
              "      <td>google pinterest digg linkedin reddit stumbleu...</td>\n",
              "      <td>FAKE</td>\n",
              "    </tr>\n",
              "    <tr>\n",
              "      <th>2</th>\n",
              "      <td>u . s . secretary of state john f . kerry said...</td>\n",
              "      <td>REAL</td>\n",
              "    </tr>\n",
              "    <tr>\n",
              "      <th>3</th>\n",
              "      <td>kaydee king kaydeeking november 9 2016 the les...</td>\n",
              "      <td>FAKE</td>\n",
              "    </tr>\n",
              "    <tr>\n",
              "      <th>4</th>\n",
              "      <td>its primary day in new york and frontrunners h...</td>\n",
              "      <td>REAL</td>\n",
              "    </tr>\n",
              "  </tbody>\n",
              "</table>\n",
              "</div>"
            ],
            "text/plain": [
              "                                                text label\n",
              "0  daniel greenfield a shillman journalism fellow...  FAKE\n",
              "1  google pinterest digg linkedin reddit stumbleu...  FAKE\n",
              "2  u . s . secretary of state john f . kerry said...  REAL\n",
              "3  kaydee king kaydeeking november 9 2016 the les...  FAKE\n",
              "4  its primary day in new york and frontrunners h...  REAL"
            ]
          },
          "metadata": {
            "tags": []
          },
          "execution_count": 5
        }
      ]
    },
    {
      "metadata": {
        "id": "aI43MATjvxGW",
        "colab_type": "code",
        "colab": {
          "base_uri": "https://localhost:8080/",
          "height": 118
        },
        "outputId": "eaa5fd37-126b-4d49-ee26-8b5030f1eb69"
      },
      "cell_type": "code",
      "source": [
        "ps = PorterStemmer()\n",
        "df.head().text.apply(lambda x: ' '.join([ps.stem(word) for word in x.split()]))"
      ],
      "execution_count": 6,
      "outputs": [
        {
          "output_type": "execute_result",
          "data": {
            "text/plain": [
              "0    daniel greenfield a shillman journal fellow at...\n",
              "1    googl pinterest digg linkedin reddit stumbleup...\n",
              "2    u . s . secretari of state john f . kerri said...\n",
              "3    kayde king kaydeek novemb 9 2016 the lesson fr...\n",
              "4    it primari day in new york and frontrunn hilla...\n",
              "Name: text, dtype: object"
            ]
          },
          "metadata": {
            "tags": []
          },
          "execution_count": 6
        }
      ]
    },
    {
      "metadata": {
        "id": "MzKR4Z0UwoEy",
        "colab_type": "code",
        "colab": {
          "base_uri": "https://localhost:8080/",
          "height": 17
        },
        "outputId": "e06e9abf-c95e-4252-c460-32eff3c2dbcd"
      },
      "cell_type": "code",
      "source": [
        "df.text = df.text.apply(lambda x: ' '.join([ps.stem(word) for word in x.split()]))"
      ],
      "execution_count": 7,
      "outputs": []
    },
    {
      "metadata": {
        "id": "NqSwZroCzlie",
        "colab_type": "code",
        "colab": {
          "base_uri": "https://localhost:8080/",
          "height": 17
        },
        "outputId": "0c661bb2-34e2-4ae4-a290-ed3e0d48bb4b"
      },
      "cell_type": "code",
      "source": [
        "tf_vectorizer = CountVectorizer(max_df=0.95, min_df=20,\n",
        "                                stop_words='english')\n",
        "tf = tf_vectorizer.fit_transform(df.text.values)\n",
        "y = (df.label.values=='REAL').astype('int')"
      ],
      "execution_count": 8,
      "outputs": []
    },
    {
      "metadata": {
        "id": "zJYs2CFi1MNU",
        "colab_type": "code",
        "colab": {
          "base_uri": "https://localhost:8080/",
          "height": 34
        },
        "outputId": "f1c514d8-409e-4e1f-eaf9-c0d40a30e50d"
      },
      "cell_type": "code",
      "source": [
        "type(tf)"
      ],
      "execution_count": 9,
      "outputs": [
        {
          "output_type": "execute_result",
          "data": {
            "text/plain": [
              "scipy.sparse.csr.csr_matrix"
            ]
          },
          "metadata": {
            "tags": []
          },
          "execution_count": 9
        }
      ]
    },
    {
      "metadata": {
        "id": "kSumKERC1Pik",
        "colab_type": "code",
        "colab": {
          "base_uri": "https://localhost:8080/",
          "height": 34
        },
        "outputId": "d6124cff-ac93-4171-9777-1f84af79e315"
      },
      "cell_type": "code",
      "source": [
        "tf.shape"
      ],
      "execution_count": 10,
      "outputs": [
        {
          "output_type": "execute_result",
          "data": {
            "text/plain": [
              "(6335, 7467)"
            ]
          },
          "metadata": {
            "tags": []
          },
          "execution_count": 10
        }
      ]
    },
    {
      "metadata": {
        "id": "rgcbnAI19cuI",
        "colab_type": "code",
        "colab": {
          "base_uri": "https://localhost:8080/",
          "height": 17
        },
        "outputId": "2d920c2a-f752-4415-d333-d95d5e276778"
      },
      "cell_type": "code",
      "source": [
        "X_train, X_test, y_train, y_test = train_test_split(tf, y, test_size=0.1, random_state=42)"
      ],
      "execution_count": 11,
      "outputs": []
    },
    {
      "metadata": {
        "id": "-JwUjtBl458g",
        "colab_type": "text"
      },
      "cell_type": "markdown",
      "source": [
        "## Many to One LSTM"
      ]
    },
    {
      "metadata": {
        "id": "67_-SMl1458g",
        "colab_type": "text"
      },
      "cell_type": "markdown",
      "source": [
        "### Basic Method:\n",
        "This method is no different to the method utilised in the sentiment analysis lesson."
      ]
    },
    {
      "metadata": {
        "id": "wfF_ZGF4458h",
        "colab_type": "code",
        "colab": {
          "base_uri": "https://localhost:8080/",
          "height": 168
        },
        "outputId": "8900fd4f-702e-47e7-c22a-c89fbb8dbb89"
      },
      "cell_type": "code",
      "source": [
        "model = Sequential()\n",
        "model.add(Dense(units=1, activation='sigmoid', input_dim=tf.shape[1]))\n",
        "model.compile(loss='binary_crossentropy', optimizer='adagrad', metrics=[\"binary_accuracy\"])\n",
        "model.summary()"
      ],
      "execution_count": 12,
      "outputs": [
        {
          "output_type": "stream",
          "text": [
            "_________________________________________________________________\n",
            "Layer (type)                 Output Shape              Param #   \n",
            "=================================================================\n",
            "dense_1 (Dense)              (None, 1)                 7468      \n",
            "=================================================================\n",
            "Total params: 7,468\n",
            "Trainable params: 7,468\n",
            "Non-trainable params: 0\n",
            "_________________________________________________________________\n"
          ],
          "name": "stdout"
        }
      ]
    },
    {
      "metadata": {
        "id": "SGkp2gGa458k",
        "colab_type": "code",
        "colab": {
          "base_uri": "https://localhost:8080/",
          "height": 218
        },
        "outputId": "32dfa8b6-6c92-48c0-9471-9610d9085a83"
      },
      "cell_type": "code",
      "source": [
        "batch_size = 128\n",
        "epochs = 5\n",
        "model.fit(X_train, y_train, batch_size=batch_size, epochs=epochs, validation_data=(X_test, y_test))"
      ],
      "execution_count": 13,
      "outputs": [
        {
          "output_type": "stream",
          "text": [
            "Train on 5701 samples, validate on 634 samples\n",
            "Epoch 1/5\n",
            "5701/5701 [==============================] - 1s 238us/step - loss: 0.4162 - binary_accuracy: 0.8484 - val_loss: 0.3226 - val_binary_accuracy: 0.9101\n",
            "Epoch 2/5\n",
            "5701/5701 [==============================] - 0s 61us/step - loss: 0.2647 - binary_accuracy: 0.9386 - val_loss: 0.2820 - val_binary_accuracy: 0.9259\n",
            "Epoch 3/5\n",
            "5701/5701 [==============================] - 0s 60us/step - loss: 0.2262 - binary_accuracy: 0.9549 - val_loss: 0.2657 - val_binary_accuracy: 0.9243\n",
            "Epoch 4/5\n",
            "5701/5701 [==============================] - 0s 66us/step - loss: 0.2033 - binary_accuracy: 0.9614 - val_loss: 0.2562 - val_binary_accuracy: 0.9259\n",
            "Epoch 5/5\n",
            "5701/5701 [==============================] - 0s 67us/step - loss: 0.1874 - binary_accuracy: 0.9661 - val_loss: 0.2481 - val_binary_accuracy: 0.9274\n"
          ],
          "name": "stdout"
        },
        {
          "output_type": "execute_result",
          "data": {
            "text/plain": [
              "<keras.callbacks.History at 0x7f93e3021c18>"
            ]
          },
          "metadata": {
            "tags": []
          },
          "execution_count": 13
        }
      ]
    },
    {
      "metadata": {
        "id": "iyiAM-lj3YXX",
        "colab_type": "code",
        "colab": {
          "base_uri": "https://localhost:8080/",
          "height": 17
        },
        "outputId": "73970a97-fb94-4c9d-81e3-f247372dbd3e"
      },
      "cell_type": "code",
      "source": [
        "def transform(string):\n",
        "  string = string.lower()\n",
        "  string = ' '.join([ps.stem(word) for word in string.split()])\n",
        "  return string"
      ],
      "execution_count": 14,
      "outputs": []
    },
    {
      "metadata": {
        "id": "rXyBApMB458t",
        "colab_type": "code",
        "colab": {
          "base_uri": "https://localhost:8080/",
          "height": 34
        },
        "outputId": "4dbddedd-2a03-4faf-b4c2-9e19a6e9e688"
      },
      "cell_type": "code",
      "source": [
        "sentence = \"North korea is testing out missiles on americans living overseas .\"\n",
        "sentence = transform(sentence)\n",
        "x = tf_vectorizer.transform([sentence])\n",
        "model.predict(x)"
      ],
      "execution_count": 15,
      "outputs": [
        {
          "output_type": "execute_result",
          "data": {
            "text/plain": [
              "array([[0.45942047]], dtype=float32)"
            ]
          },
          "metadata": {
            "tags": []
          },
          "execution_count": 15
        }
      ]
    },
    {
      "metadata": {
        "id": "1DQiqseX4mSE",
        "colab_type": "code",
        "colab": {
          "base_uri": "https://localhost:8080/",
          "height": 34
        },
        "outputId": "9f5625d0-2a94-4b65-fc2d-784770aadd70"
      },
      "cell_type": "code",
      "source": [
        "sentence"
      ],
      "execution_count": 16,
      "outputs": [
        {
          "output_type": "execute_result",
          "data": {
            "text/plain": [
              "'north korea is test out missil on american live oversea .'"
            ]
          },
          "metadata": {
            "tags": []
          },
          "execution_count": 16
        }
      ]
    },
    {
      "metadata": {
        "id": "WziK-vku4piV",
        "colab_type": "code",
        "colab": {
          "base_uri": "https://localhost:8080/",
          "height": 34
        },
        "outputId": "4aa60621-094e-4cf8-c7bc-29007df6f00a"
      },
      "cell_type": "code",
      "source": [
        "x.shape"
      ],
      "execution_count": 17,
      "outputs": [
        {
          "output_type": "execute_result",
          "data": {
            "text/plain": [
              "(1, 7467)"
            ]
          },
          "metadata": {
            "tags": []
          },
          "execution_count": 17
        }
      ]
    },
    {
      "metadata": {
        "id": "Rwh5OTU2458y",
        "colab_type": "code",
        "colab": {
          "base_uri": "https://localhost:8080/",
          "height": 34
        },
        "outputId": "700b5bcd-b545-422e-a73c-259e814e8ce1"
      },
      "cell_type": "code",
      "source": [
        "sentence = \"The chemicals in the water is turning the freaking frogs gay says cnn . \"\n",
        "sentence = transform(sentence)\n",
        "x = tf_vectorizer.transform([sentence])\n",
        "model.predict(x)"
      ],
      "execution_count": 18,
      "outputs": [
        {
          "output_type": "execute_result",
          "data": {
            "text/plain": [
              "array([[0.50165105]], dtype=float32)"
            ]
          },
          "metadata": {
            "tags": []
          },
          "execution_count": 18
        }
      ]
    },
    {
      "metadata": {
        "id": "1BfYMF-H4581",
        "colab_type": "code",
        "colab": {
          "base_uri": "https://localhost:8080/",
          "height": 34
        },
        "outputId": "fea4fcac-4d8f-4a2d-957d-703cec1781a5"
      },
      "cell_type": "code",
      "source": [
        "sentence = \"President Trump is the greatest president of all time period .\"\n",
        "sentence = transform(sentence)\n",
        "x = tf_vectorizer.transform([sentence])\n",
        "model.predict(x)"
      ],
      "execution_count": 19,
      "outputs": [
        {
          "output_type": "execute_result",
          "data": {
            "text/plain": [
              "array([[0.48175716]], dtype=float32)"
            ]
          },
          "metadata": {
            "tags": []
          },
          "execution_count": 19
        }
      ]
    },
    {
      "metadata": {
        "id": "bxbyR3Gc4583",
        "colab_type": "code",
        "colab": {
          "base_uri": "https://localhost:8080/",
          "height": 50
        },
        "outputId": "ebd72d8a-5340-4ba6-f4ba-0460e5959f50"
      },
      "cell_type": "code",
      "source": [
        "model.evaluate(X_test, y_test)"
      ],
      "execution_count": 20,
      "outputs": [
        {
          "output_type": "stream",
          "text": [
            "634/634 [==============================] - 0s 115us/step\n"
          ],
          "name": "stdout"
        },
        {
          "output_type": "execute_result",
          "data": {
            "text/plain": [
              "[0.24811509406717042, 0.9274447938245177]"
            ]
          },
          "metadata": {
            "tags": []
          },
          "execution_count": 20
        }
      ]
    },
    {
      "metadata": {
        "id": "Nqs3Gdgd5tU_",
        "colab_type": "code",
        "colab": {
          "base_uri": "https://localhost:8080/",
          "height": 265
        },
        "outputId": "cc24f51f-f86a-44b6-b4ac-3b1ebc6fc769"
      },
      "cell_type": "code",
      "source": [
        "weights = model.get_weights()[0]\n",
        "plt.hist(weights, 50)\n",
        "plt.show()"
      ],
      "execution_count": 21,
      "outputs": [
        {
          "output_type": "display_data",
          "data": {
            "image/png": "[encoded data removed]",
            "text/plain": [
              "<matplotlib.figure.Figure at 0x7f93e2fca9e8>"
            ]
          },
          "metadata": {
            "tags": []
          }
        }
      ]
    },
    {
      "metadata": {
        "id": "0YPvfc405wlN",
        "colab_type": "code",
        "colab": {
          "base_uri": "https://localhost:8080/",
          "height": 17
        },
        "outputId": "80aefbb2-8246-4516-a313-f708f0287448"
      },
      "cell_type": "code",
      "source": [
        "words = np.array(tf_vectorizer.get_feature_names())[:, None]\n",
        "pos_words = words[weights>0.1]\n",
        "neg_words = words[weights<-0.1]"
      ],
      "execution_count": 22,
      "outputs": []
    },
    {
      "metadata": {
        "id": "GJRArUsi6MC7",
        "colab_type": "code",
        "colab": {
          "base_uri": "https://localhost:8080/",
          "height": 151
        },
        "outputId": "f0c2e17d-f2ba-434c-a8fa-0b902a966f67"
      },
      "cell_type": "code",
      "source": [
        "pos_words"
      ],
      "execution_count": 23,
      "outputs": [
        {
          "output_type": "execute_result",
          "data": {
            "text/plain": [
              "array(['131', '2013', '232', 'antiabort', 'ariz', 'bernardino', 'broadli',\n",
              "       'calif', 'carson', 'caucusgo', 'cbn', 'conserv', 'contrast',\n",
              "       'dana', 'dec', 'dismantl', 'easier', 'fnc', 'graham', 'gunmen',\n",
              "       'hebdo', 'howardkurtz', 'indiana', 'islamist', 'kurtz', 'lindsey',\n",
              "       'mediabuzz', 'plausibl', 'polar', 'presumpt', 'reform', 'rki',\n",
              "       'rohio', 'samesex', 'satir', 'secondplac', 'somewhat',\n",
              "       'spokeswoman', 'tack', 'ted', 'threeday', 'todd', 'todo',\n",
              "       'tuesday', 'workrel'], dtype='<U17')"
            ]
          },
          "metadata": {
            "tags": []
          },
          "execution_count": 23
        }
      ]
    },
    {
      "metadata": {
        "id": "WuayoZJl6eZF",
        "colab_type": "code",
        "colab": {
          "base_uri": "https://localhost:8080/",
          "height": 252
        },
        "outputId": "31b7c28f-7cc6-4c0e-b73b-20062c4f8c6e"
      },
      "cell_type": "code",
      "source": [
        "neg_words"
      ],
      "execution_count": 24,
      "outputs": [
        {
          "output_type": "execute_result",
          "data": {
            "text/plain": [
              "array(['2016', '26', '27', '28', '29', '8th', 'acid', 'advertis',\n",
              "       'advisor', 'afp', 'articl', 'awesom', 'baltic', 'banana',\n",
              "       'blatantli', 'bookmark', 'client', 'com', 'comment', 'commod',\n",
              "       'commonplac', 'copyright', 'corrupt', 'curs', 'daesh', 'doj',\n",
              "       'eddi', 'fleet', 'flickr', 'fuck', 'govt', 'hillari', 'hrc', 'ht',\n",
              "       'html', 'interf', 'leftright', 'login', 'mailbox', 'min', 'moon',\n",
              "       'navig', 'norway', 'notifi', 'novemb', 'obstruct', 'occupi', 'oct',\n",
              "       'octob', 'onion', 'org', 'parliament', 'permiss', 'pic',\n",
              "       'pinterest', 'pleas', 'pm', 'predat', 'preemptiv',\n",
              "       'presidentelect', 'print', 'reader', 'reopen', 'rt', 'ru', 'russ',\n",
              "       'sf', 'share', 'sorri', 'sourc', 'spam', 'sputnik', 'subscrib',\n",
              "       'supervis', 'swipe', 'tag', 'templ', 'throne', 'toxin', 'trunew',\n",
              "       'type', 'uk', 'url', 'vandal', 'victoria', 'warmong', 'wikileak',\n",
              "       'youtub'], dtype='<U17')"
            ]
          },
          "metadata": {
            "tags": []
          },
          "execution_count": 24
        }
      ]
    },
    {
      "metadata": {
        "id": "UNfmzMvo6gX_",
        "colab_type": "code",
        "colab": {
          "base_uri": "https://localhost:8080/",
          "height": 34
        },
        "outputId": "69b9f8c5-daa4-46b2-fd67-9a945147eae5"
      },
      "cell_type": "code",
      "source": [
        "y.sum()/len(y)"
      ],
      "execution_count": 25,
      "outputs": [
        {
          "output_type": "execute_result",
          "data": {
            "text/plain": [
              "0.5005524861878453"
            ]
          },
          "metadata": {
            "tags": []
          },
          "execution_count": 25
        }
      ]
    },
    {
      "metadata": {
        "id": "kjfeRvBP_xvc",
        "colab_type": "code",
        "colab": {}
      },
      "cell_type": "code",
      "source": [
        ""
      ],
      "execution_count": 0,
      "outputs": []
    }
  ]
}